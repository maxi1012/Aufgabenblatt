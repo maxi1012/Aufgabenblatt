{
 "cells": [
  {
   "cell_type": "markdown",
   "id": "4168ecbe",
   "metadata": {},
   "source": [
    "# Aufgabenblatt 3 "
   ]
  },
  {
   "cell_type": "markdown",
   "id": "69488135",
   "metadata": {},
   "source": [
    "## Aufgabe 3.0"
   ]
  },
  {
   "cell_type": "code",
   "execution_count": 27,
   "id": "3cffcda0",
   "metadata": {},
   "outputs": [],
   "source": [
    "def Listen(*zahlen):\n",
    "    zahlen = [zahlen]\n",
    "    print(zahlen)"
   ]
  },
  {
   "cell_type": "code",
   "execution_count": 29,
   "id": "4baffc22",
   "metadata": {},
   "outputs": [
    {
     "name": "stdout",
     "output_type": "stream",
     "text": [
      "[(4, 5, 6, 7, 8)]\n"
     ]
    }
   ],
   "source": [
    "Listen(4, 5, 6, 7, 8)"
   ]
  },
  {
   "cell_type": "markdown",
   "id": "bdc69c3a",
   "metadata": {},
   "source": [
    "## Aufgabe 3.1"
   ]
  },
  {
   "cell_type": "code",
   "execution_count": 13,
   "id": "f31e760b",
   "metadata": {},
   "outputs": [
    {
     "name": "stdout",
     "output_type": "stream",
     "text": [
      "0.037037037037037035\n"
     ]
    }
   ],
   "source": [
    "#a)\n",
    "i = 1\n",
    "rechnen = True\n",
    "while rechnen:\n",
    "    rechnung = (1 / (i ** 3))\n",
    "    i += 1\n",
    "    if len(str(rechnung)) > 10:\n",
    "        rechnen = False\n",
    "    else:\n",
    "        continue\n",
    "print(rechnung)"
   ]
  },
  {
   "cell_type": "code",
   "execution_count": null,
   "id": "add2afce",
   "metadata": {},
   "outputs": [],
   "source": [
    "# b)"
   ]
  },
  {
   "cell_type": "markdown",
   "id": "8e95c8c5",
   "metadata": {},
   "source": [
    "## Aufgabe 3.2"
   ]
  },
  {
   "cell_type": "code",
   "execution_count": null,
   "id": "18ce6292",
   "metadata": {},
   "outputs": [],
   "source": []
  },
  {
   "cell_type": "markdown",
   "id": "fee46146",
   "metadata": {},
   "source": [
    "## Aufgabe 3.3"
   ]
  },
  {
   "cell_type": "code",
   "execution_count": 2,
   "id": "b133ae54",
   "metadata": {},
   "outputs": [],
   "source": [
    "d = {\"a\":12, \"b\":13}"
   ]
  },
  {
   "cell_type": "code",
   "execution_count": 36,
   "id": "42fdb57c",
   "metadata": {},
   "outputs": [
    {
     "name": "stdout",
     "output_type": "stream",
     "text": [
      "Einträge: 2\n"
     ]
    }
   ],
   "source": [
    "#a)\n",
    "print(\"Einträge:\", len(d))"
   ]
  },
  {
   "cell_type": "code",
   "execution_count": 38,
   "id": "63c31632",
   "metadata": {},
   "outputs": [
    {
     "name": "stdout",
     "output_type": "stream",
     "text": [
      "False\n"
     ]
    }
   ],
   "source": [
    "#b)\n",
    "if \"Hallo\" in d:\n",
    "    print(True)\n",
    "else:\n",
    "    print(False)"
   ]
  },
  {
   "cell_type": "code",
   "execution_count": 4,
   "id": "32255a26",
   "metadata": {},
   "outputs": [
    {
     "name": "stdout",
     "output_type": "stream",
     "text": [
      "False\n",
      "False\n"
     ]
    }
   ],
   "source": [
    "#c)\n",
    "schlüssel = d.values()\n",
    "for x in schlüssel:\n",
    "    if schlüssel == int():\n",
    "        print(True)\n",
    "    else:\n",
    "        print(False)"
   ]
  },
  {
   "cell_type": "code",
   "execution_count": 40,
   "id": "b7873ed0",
   "metadata": {},
   "outputs": [
    {
     "name": "stdout",
     "output_type": "stream",
     "text": [
      "{'a': 2, 'b': 13}\n"
     ]
    }
   ],
   "source": [
    "#d)\n",
    "d[\"a\"] = 2\n",
    "print(d)"
   ]
  }
 ],
 "metadata": {
  "kernelspec": {
   "display_name": "Python 3 (ipykernel)",
   "language": "python",
   "name": "python3"
  },
  "language_info": {
   "codemirror_mode": {
    "name": "ipython",
    "version": 3
   },
   "file_extension": ".py",
   "mimetype": "text/x-python",
   "name": "python",
   "nbconvert_exporter": "python",
   "pygments_lexer": "ipython3",
   "version": "3.9.7"
  }
 },
 "nbformat": 4,
 "nbformat_minor": 5
}
